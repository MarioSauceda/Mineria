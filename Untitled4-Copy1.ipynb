{
 "cells": [
  {
   "cell_type": "code",
   "execution_count": 75,
   "metadata": {},
   "outputs": [],
   "source": [
    "import pandas as pd\n",
    "import matplotlib as pt\n",
    "%matplotlib inline\n",
    "import numpy as np\n",
    "import json"
   ]
  },
  {
   "cell_type": "code",
   "execution_count": 73,
   "metadata": {},
   "outputs": [],
   "source": [
    "base_datos = pd.read_csv(\"/Users/jesus.sauceda/Desktop/Mario/TAREAS ESCUELA/Mineria de datos 7to semestre/Ejemplos de bases de datos/winemag-data_first150k.csv\")"
   ]
  },
  {
   "cell_type": "code",
   "execution_count": 74,
   "metadata": {},
   "outputs": [],
   "source": [
    "del base_datos['region_2']\n",
    "del base_datos['variety']"
   ]
  },
  {
   "cell_type": "code",
   "execution_count": 101,
   "metadata": {},
   "outputs": [],
   "source": [
    "espania = base_datos[base_datos['country']=='Spain']\n",
    "\n",
    "espania.to_csv('españa.csv',index=False)\n",
    "\n",
    "EUA = base_datos[base_datos['country']=='US']\n",
    "\n",
    "EUA.to_csv('estados_unidos.csv', index=False)\n",
    "\n",
    "francia = base_datos[base_datos['country']=='France']\n",
    "\n",
    "francia.to_csv('francia.csv')"
   ]
  },
  {
   "cell_type": "code",
   "execution_count": 76,
   "metadata": {},
   "outputs": [
    {
     "data": {
      "text/plain": [
       "((8268, 9), (62397, 9), (21098, 9))"
      ]
     },
     "execution_count": 76,
     "metadata": {},
     "output_type": "execute_result"
    }
   ],
   "source": [
    "espania.shape,EUA.shape,francia.shape"
   ]
  },
  {
   "cell_type": "code",
   "execution_count": 77,
   "metadata": {},
   "outputs": [],
   "source": [
    "#pregunta de interes\n",
    "#nos sirve para poder agrupar los datos para poder trabajar de manera mas practica\n",
    "#y asi poder sacar un analisi mas practico"
   ]
  },
  {
   "cell_type": "code",
   "execution_count": 78,
   "metadata": {},
   "outputs": [
    {
     "data": {
      "text/html": [
       "<div>\n",
       "<style scoped>\n",
       "    .dataframe tbody tr th:only-of-type {\n",
       "        vertical-align: middle;\n",
       "    }\n",
       "\n",
       "    .dataframe tbody tr th {\n",
       "        vertical-align: top;\n",
       "    }\n",
       "\n",
       "    .dataframe thead th {\n",
       "        text-align: right;\n",
       "    }\n",
       "</style>\n",
       "<table border=\"1\" class=\"dataframe\">\n",
       "  <thead>\n",
       "    <tr style=\"text-align: right;\">\n",
       "      <th></th>\n",
       "      <th>Unnamed: 0</th>\n",
       "      <th>country</th>\n",
       "      <th>description</th>\n",
       "      <th>designation</th>\n",
       "      <th>points</th>\n",
       "      <th>price</th>\n",
       "      <th>province</th>\n",
       "      <th>region_1</th>\n",
       "      <th>winery</th>\n",
       "    </tr>\n",
       "  </thead>\n",
       "  <tbody>\n",
       "    <tr>\n",
       "      <td>0</td>\n",
       "      <td>0</td>\n",
       "      <td>US</td>\n",
       "      <td>This tremendous 100% varietal wine hails from ...</td>\n",
       "      <td>Martha's Vineyard</td>\n",
       "      <td>96</td>\n",
       "      <td>235.0</td>\n",
       "      <td>California</td>\n",
       "      <td>Napa Valley</td>\n",
       "      <td>Heitz</td>\n",
       "    </tr>\n",
       "    <tr>\n",
       "      <td>1</td>\n",
       "      <td>1</td>\n",
       "      <td>Spain</td>\n",
       "      <td>Ripe aromas of fig, blackberry and cassis are ...</td>\n",
       "      <td>Carodorum Selección Especial Reserva</td>\n",
       "      <td>96</td>\n",
       "      <td>110.0</td>\n",
       "      <td>Northern Spain</td>\n",
       "      <td>Toro</td>\n",
       "      <td>Bodega Carmen Rodríguez</td>\n",
       "    </tr>\n",
       "    <tr>\n",
       "      <td>2</td>\n",
       "      <td>2</td>\n",
       "      <td>US</td>\n",
       "      <td>Mac Watson honors the memory of a wine once ma...</td>\n",
       "      <td>Special Selected Late Harvest</td>\n",
       "      <td>96</td>\n",
       "      <td>90.0</td>\n",
       "      <td>California</td>\n",
       "      <td>Knights Valley</td>\n",
       "      <td>Macauley</td>\n",
       "    </tr>\n",
       "    <tr>\n",
       "      <td>3</td>\n",
       "      <td>3</td>\n",
       "      <td>US</td>\n",
       "      <td>This spent 20 months in 30% new French oak, an...</td>\n",
       "      <td>Reserve</td>\n",
       "      <td>96</td>\n",
       "      <td>65.0</td>\n",
       "      <td>Oregon</td>\n",
       "      <td>Willamette Valley</td>\n",
       "      <td>Ponzi</td>\n",
       "    </tr>\n",
       "    <tr>\n",
       "      <td>4</td>\n",
       "      <td>4</td>\n",
       "      <td>France</td>\n",
       "      <td>This is the top wine from La Bégude, named aft...</td>\n",
       "      <td>La Brûlade</td>\n",
       "      <td>95</td>\n",
       "      <td>66.0</td>\n",
       "      <td>Provence</td>\n",
       "      <td>Bandol</td>\n",
       "      <td>Domaine de la Bégude</td>\n",
       "    </tr>\n",
       "    <tr>\n",
       "      <td>...</td>\n",
       "      <td>...</td>\n",
       "      <td>...</td>\n",
       "      <td>...</td>\n",
       "      <td>...</td>\n",
       "      <td>...</td>\n",
       "      <td>...</td>\n",
       "      <td>...</td>\n",
       "      <td>...</td>\n",
       "      <td>...</td>\n",
       "    </tr>\n",
       "    <tr>\n",
       "      <td>8263</td>\n",
       "      <td>8263</td>\n",
       "      <td>US</td>\n",
       "      <td>All the Lemelson Pinots in 2014 are strikingly...</td>\n",
       "      <td>Jerome Reserve</td>\n",
       "      <td>89</td>\n",
       "      <td>60.0</td>\n",
       "      <td>Oregon</td>\n",
       "      <td>Willamette Valley</td>\n",
       "      <td>Lemelson</td>\n",
       "    </tr>\n",
       "    <tr>\n",
       "      <td>8264</td>\n",
       "      <td>8264</td>\n",
       "      <td>US</td>\n",
       "      <td>Winemaker Neil Collins spends his time diving ...</td>\n",
       "      <td>Sheep Camp</td>\n",
       "      <td>89</td>\n",
       "      <td>45.0</td>\n",
       "      <td>California</td>\n",
       "      <td>Paso Robles Willow Creek District</td>\n",
       "      <td>Lone Madrone</td>\n",
       "    </tr>\n",
       "    <tr>\n",
       "      <td>8265</td>\n",
       "      <td>8265</td>\n",
       "      <td>Spain</td>\n",
       "      <td>This here is classic amontillado. Aromas of to...</td>\n",
       "      <td>Amontillado Los Arcos Dry</td>\n",
       "      <td>89</td>\n",
       "      <td>16.0</td>\n",
       "      <td>Andalucia</td>\n",
       "      <td>Jerez</td>\n",
       "      <td>Lustau</td>\n",
       "    </tr>\n",
       "    <tr>\n",
       "      <td>8266</td>\n",
       "      <td>8266</td>\n",
       "      <td>Italy</td>\n",
       "      <td>This wine's tropical fruit and fragrant white ...</td>\n",
       "      <td>NaN</td>\n",
       "      <td>89</td>\n",
       "      <td>19.0</td>\n",
       "      <td>Lombardy</td>\n",
       "      <td>Lugana</td>\n",
       "      <td>Ottella</td>\n",
       "    </tr>\n",
       "    <tr>\n",
       "      <td>8267</td>\n",
       "      <td>8267</td>\n",
       "      <td>US</td>\n",
       "      <td>Plum and cherry fruit flavors are dressed in m...</td>\n",
       "      <td>De Ponte Vineyard</td>\n",
       "      <td>89</td>\n",
       "      <td>45.0</td>\n",
       "      <td>Oregon</td>\n",
       "      <td>Dundee Hills</td>\n",
       "      <td>Panther Creek</td>\n",
       "    </tr>\n",
       "  </tbody>\n",
       "</table>\n",
       "<p>8268 rows × 9 columns</p>\n",
       "</div>"
      ],
      "text/plain": [
       "      Unnamed: 0 country                                        description  \\\n",
       "0              0      US  This tremendous 100% varietal wine hails from ...   \n",
       "1              1   Spain  Ripe aromas of fig, blackberry and cassis are ...   \n",
       "2              2      US  Mac Watson honors the memory of a wine once ma...   \n",
       "3              3      US  This spent 20 months in 30% new French oak, an...   \n",
       "4              4  France  This is the top wine from La Bégude, named aft...   \n",
       "...          ...     ...                                                ...   \n",
       "8263        8263      US  All the Lemelson Pinots in 2014 are strikingly...   \n",
       "8264        8264      US  Winemaker Neil Collins spends his time diving ...   \n",
       "8265        8265   Spain  This here is classic amontillado. Aromas of to...   \n",
       "8266        8266   Italy  This wine's tropical fruit and fragrant white ...   \n",
       "8267        8267      US  Plum and cherry fruit flavors are dressed in m...   \n",
       "\n",
       "                               designation  points  price        province  \\\n",
       "0                        Martha's Vineyard      96  235.0      California   \n",
       "1     Carodorum Selección Especial Reserva      96  110.0  Northern Spain   \n",
       "2            Special Selected Late Harvest      96   90.0      California   \n",
       "3                                  Reserve      96   65.0          Oregon   \n",
       "4                               La Brûlade      95   66.0        Provence   \n",
       "...                                    ...     ...    ...             ...   \n",
       "8263                        Jerome Reserve      89   60.0          Oregon   \n",
       "8264                            Sheep Camp      89   45.0      California   \n",
       "8265             Amontillado Los Arcos Dry      89   16.0       Andalucia   \n",
       "8266                                   NaN      89   19.0        Lombardy   \n",
       "8267                     De Ponte Vineyard      89   45.0          Oregon   \n",
       "\n",
       "                               region_1                   winery  \n",
       "0                           Napa Valley                    Heitz  \n",
       "1                                  Toro  Bodega Carmen Rodríguez  \n",
       "2                        Knights Valley                 Macauley  \n",
       "3                     Willamette Valley                    Ponzi  \n",
       "4                                Bandol     Domaine de la Bégude  \n",
       "...                                 ...                      ...  \n",
       "8263                  Willamette Valley                 Lemelson  \n",
       "8264  Paso Robles Willow Creek District             Lone Madrone  \n",
       "8265                              Jerez                   Lustau  \n",
       "8266                             Lugana                  Ottella  \n",
       "8267                       Dundee Hills            Panther Creek  \n",
       "\n",
       "[8268 rows x 9 columns]"
      ]
     },
     "execution_count": 78,
     "metadata": {},
     "output_type": "execute_result"
    }
   ],
   "source": [
    "base_datos.head(8268)"
   ]
  },
  {
   "cell_type": "code",
   "execution_count": 79,
   "metadata": {},
   "outputs": [],
   "source": [
    "Lista= [espania['price'].sum(),EUA['price'].sum(),francia['price'].sum()]"
   ]
  },
  {
   "cell_type": "code",
   "execution_count": 80,
   "metadata": {},
   "outputs": [
    {
     "data": {
      "text/plain": [
       "<matplotlib.axes._subplots.AxesSubplot at 0x26a9b52f408>"
      ]
     },
     "execution_count": 80,
     "metadata": {},
     "output_type": "execute_result"
    },
    {
     "data": {
      "image/png": "[encoded data removed]",
      "text/plain": [
       "<Figure size 432x288 with 1 Axes>"
      ]
     },
     "metadata": {
      "needs_background": "light"
     },
     "output_type": "display_data"
    }
   ],
   "source": [
    "base_datos['country'].value_counts().head(10).plot.bar()"
   ]
  },
  {
   "cell_type": "code",
   "execution_count": 131,
   "metadata": {},
   "outputs": [],
   "source": [
    "fra = espania.append(francia)\n",
    "p2 = fra.append(francia)\n",
    "\n",
    "estados = espania.append(EUA)\n",
    "p3 = p2.append(EUA)\n"
   ]
  },
  {
   "cell_type": "code",
   "execution_count": 128,
   "metadata": {},
   "outputs": [
    {
     "data": {
      "text/plain": [
       "1        Spain\n",
       "5        Spain\n",
       "6        Spain\n",
       "7        Spain\n",
       "17       Spain\n",
       "         ...  \n",
       "82960    Spain\n",
       "82963    Spain\n",
       "82966    Spain\n",
       "82967    Spain\n",
       "83011    Spain\n",
       "Name: country, Length: 4480, dtype: object"
      ]
     },
     "execution_count": 128,
     "metadata": {},
     "output_type": "execute_result"
    }
   ],
   "source": [
    "p2['country'].head(4480)"
   ]
  },
  {
   "cell_type": "code",
   "execution_count": 133,
   "metadata": {},
   "outputs": [
    {
     "data": {
      "text/plain": [
       "<matplotlib.axes._subplots.AxesSubplot at 0x26a99648348>"
      ]
     },
     "execution_count": 133,
     "metadata": {},
     "output_type": "execute_result"
    },
    {
     "data": {
      "image/png": "[encoded data removed]",
      "text/plain": [
       "<Figure size 432x288 with 1 Axes>"
      ]
     },
     "metadata": {
      "needs_background": "light"
     },
     "output_type": "display_data"
    }
   ],
   "source": [
    "p3['country'].value_counts().plot.bar()"
   ]
  },
  {
   "cell_type": "code",
   "execution_count": 105,
   "metadata": {
    "scrolled": true
   },
   "outputs": [
    {
     "data": {
      "text/html": [
       "<div>\n",
       "<style scoped>\n",
       "    .dataframe tbody tr th:only-of-type {\n",
       "        vertical-align: middle;\n",
       "    }\n",
       "\n",
       "    .dataframe tbody tr th {\n",
       "        vertical-align: top;\n",
       "    }\n",
       "\n",
       "    .dataframe thead th {\n",
       "        text-align: right;\n",
       "    }\n",
       "</style>\n",
       "<table border=\"1\" class=\"dataframe\">\n",
       "  <thead>\n",
       "    <tr style=\"text-align: right;\">\n",
       "      <th></th>\n",
       "      <th>Unnamed: 0</th>\n",
       "      <th>country</th>\n",
       "      <th>description</th>\n",
       "      <th>designation</th>\n",
       "      <th>points</th>\n",
       "      <th>price</th>\n",
       "      <th>province</th>\n",
       "      <th>region_1</th>\n",
       "      <th>winery</th>\n",
       "    </tr>\n",
       "  </thead>\n",
       "  <tbody>\n",
       "    <tr>\n",
       "      <td>1</td>\n",
       "      <td>1</td>\n",
       "      <td>Spain</td>\n",
       "      <td>Ripe aromas of fig, blackberry and cassis are ...</td>\n",
       "      <td>Carodorum Selección Especial Reserva</td>\n",
       "      <td>96</td>\n",
       "      <td>110.0</td>\n",
       "      <td>Northern Spain</td>\n",
       "      <td>Toro</td>\n",
       "      <td>Bodega Carmen Rodríguez</td>\n",
       "    </tr>\n",
       "    <tr>\n",
       "      <td>5</td>\n",
       "      <td>5</td>\n",
       "      <td>Spain</td>\n",
       "      <td>Deep, dense and pure from the opening bell, th...</td>\n",
       "      <td>Numanthia</td>\n",
       "      <td>95</td>\n",
       "      <td>73.0</td>\n",
       "      <td>Northern Spain</td>\n",
       "      <td>Toro</td>\n",
       "      <td>Numanthia</td>\n",
       "    </tr>\n",
       "    <tr>\n",
       "      <td>6</td>\n",
       "      <td>6</td>\n",
       "      <td>Spain</td>\n",
       "      <td>Slightly gritty black-fruit aromas include a s...</td>\n",
       "      <td>San Román</td>\n",
       "      <td>95</td>\n",
       "      <td>65.0</td>\n",
       "      <td>Northern Spain</td>\n",
       "      <td>Toro</td>\n",
       "      <td>Maurodos</td>\n",
       "    </tr>\n",
       "    <tr>\n",
       "      <td>7</td>\n",
       "      <td>7</td>\n",
       "      <td>Spain</td>\n",
       "      <td>Lush cedary black-fruit aromas are luxe and of...</td>\n",
       "      <td>Carodorum Único Crianza</td>\n",
       "      <td>95</td>\n",
       "      <td>110.0</td>\n",
       "      <td>Northern Spain</td>\n",
       "      <td>Toro</td>\n",
       "      <td>Bodega Carmen Rodríguez</td>\n",
       "    </tr>\n",
       "    <tr>\n",
       "      <td>17</td>\n",
       "      <td>17</td>\n",
       "      <td>Spain</td>\n",
       "      <td>Nicely oaked blackberry, licorice, vanilla and...</td>\n",
       "      <td>6 Años Reserva Premium</td>\n",
       "      <td>95</td>\n",
       "      <td>80.0</td>\n",
       "      <td>Northern Spain</td>\n",
       "      <td>Ribera del Duero</td>\n",
       "      <td>Valduero</td>\n",
       "    </tr>\n",
       "  </tbody>\n",
       "</table>\n",
       "</div>"
      ],
      "text/plain": [
       "    Unnamed: 0 country                                        description  \\\n",
       "1            1   Spain  Ripe aromas of fig, blackberry and cassis are ...   \n",
       "5            5   Spain  Deep, dense and pure from the opening bell, th...   \n",
       "6            6   Spain  Slightly gritty black-fruit aromas include a s...   \n",
       "7            7   Spain  Lush cedary black-fruit aromas are luxe and of...   \n",
       "17          17   Spain  Nicely oaked blackberry, licorice, vanilla and...   \n",
       "\n",
       "                             designation  points  price        province  \\\n",
       "1   Carodorum Selección Especial Reserva      96  110.0  Northern Spain   \n",
       "5                              Numanthia      95   73.0  Northern Spain   \n",
       "6                              San Román      95   65.0  Northern Spain   \n",
       "7                Carodorum Único Crianza      95  110.0  Northern Spain   \n",
       "17                6 Años Reserva Premium      95   80.0  Northern Spain   \n",
       "\n",
       "            region_1                   winery  \n",
       "1               Toro  Bodega Carmen Rodríguez  \n",
       "5               Toro                Numanthia  \n",
       "6               Toro                 Maurodos  \n",
       "7               Toro  Bodega Carmen Rodríguez  \n",
       "17  Ribera del Duero                 Valduero  "
      ]
     },
     "execution_count": 105,
     "metadata": {},
     "output_type": "execute_result"
    }
   ],
   "source": [
    "p3.head(5)"
   ]
  },
  {
   "cell_type": "code",
   "execution_count": 138,
   "metadata": {
    "scrolled": false
   },
   "outputs": [
    {
     "data": {
      "text/plain": [
       "<matplotlib.axes._subplots.AxesSubplot at 0x26a9d7d2a08>"
      ]
     },
     "execution_count": 138,
     "metadata": {},
     "output_type": "execute_result"
    },
    {
     "data": {
      "image/png": "[encoded data removed]",
      "text/plain": [
       "<Figure size 432x288 with 1 Axes>"
      ]
     },
     "metadata": {
      "needs_background": "light"
     },
     "output_type": "display_data"
    }
   ],
   "source": [
    "p3[p3['price'] < 100].sample(100).plot.scatter(x='price',y='points')"
   ]
  },
  {
   "cell_type": "code",
   "execution_count": null,
   "metadata": {},
   "outputs": [],
   "source": []
  }
 ],
 "metadata": {
  "kernelspec": {
   "display_name": "Python 3",
   "language": "python",
   "name": "python3"
  },
  "language_info": {
   "codemirror_mode": {
    "name": "ipython",
    "version": 3
   },
   "file_extension": ".py",
   "mimetype": "text/x-python",
   "name": "python",
   "nbconvert_exporter": "python",
   "pygments_lexer": "ipython3",
   "version": "3.7.4"
  }
 },
 "nbformat": 4,
 "nbformat_minor": 2
}
